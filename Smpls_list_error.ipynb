{
 "cells": [
  {
   "cell_type": "code",
   "execution_count": 1,
   "metadata": {},
   "outputs": [],
   "source": [
    "# import packages\n",
    "import pandas as pd\n",
    "import matplotlib.pyplot as plt\n",
    "import seaborn as sns"
   ]
  },
  {
   "cell_type": "code",
   "execution_count": 23,
   "metadata": {},
   "outputs": [
    {
     "data": {
      "text/html": [
       "<div>\n",
       "<style scoped>\n",
       "    .dataframe tbody tr th:only-of-type {\n",
       "        vertical-align: middle;\n",
       "    }\n",
       "\n",
       "    .dataframe tbody tr th {\n",
       "        vertical-align: top;\n",
       "    }\n",
       "\n",
       "    .dataframe thead th {\n",
       "        text-align: right;\n",
       "    }\n",
       "</style>\n",
       "<table border=\"1\" class=\"dataframe\">\n",
       "  <thead>\n",
       "    <tr style=\"text-align: right;\">\n",
       "      <th></th>\n",
       "      <th>Vkood</th>\n",
       "      <th>Smpl_group</th>\n",
       "      <th>Skood</th>\n",
       "      <th>gender</th>\n",
       "      <th>Age_at_MBsample</th>\n",
       "      <th>paired_Vkood</th>\n",
       "      <th>paired_smpl_group</th>\n",
       "      <th>paired_Skood</th>\n",
       "      <th>paired_gender</th>\n",
       "      <th>paired_Age_at_Mbsample</th>\n",
       "      <th>Comment</th>\n",
       "    </tr>\n",
       "  </thead>\n",
       "  <tbody>\n",
       "    <tr>\n",
       "      <th>0</th>\n",
       "      <td>V00H9L</td>\n",
       "      <td>OA_incident_control</td>\n",
       "      <td>EGVD024326</td>\n",
       "      <td>1</td>\n",
       "      <td>51</td>\n",
       "      <td>VX5N7I</td>\n",
       "      <td>OA_incident_case</td>\n",
       "      <td>EGVD023983</td>\n",
       "      <td>1</td>\n",
       "      <td>51</td>\n",
       "      <td>NaN</td>\n",
       "    </tr>\n",
       "    <tr>\n",
       "      <th>1</th>\n",
       "      <td>V010T4</td>\n",
       "      <td>OA_prev_control</td>\n",
       "      <td>EGVD042269</td>\n",
       "      <td>1</td>\n",
       "      <td>46</td>\n",
       "      <td>VY8NWU</td>\n",
       "      <td>OA_prev_case</td>\n",
       "      <td>EGVD000644</td>\n",
       "      <td>1</td>\n",
       "      <td>46</td>\n",
       "      <td>NaN</td>\n",
       "    </tr>\n",
       "  </tbody>\n",
       "</table>\n",
       "</div>"
      ],
      "text/plain": [
       "    Vkood           Smpl_group       Skood  gender  Age_at_MBsample  \\\n",
       "0  V00H9L  OA_incident_control  EGVD024326       1               51   \n",
       "1  V010T4      OA_prev_control  EGVD042269       1               46   \n",
       "\n",
       "  paired_Vkood paired_smpl_group paired_Skood  paired_gender  \\\n",
       "0       VX5N7I  OA_incident_case   EGVD023983              1   \n",
       "1       VY8NWU      OA_prev_case   EGVD000644              1   \n",
       "\n",
       "   paired_Age_at_Mbsample Comment  \n",
       "0                      51     NaN  \n",
       "1                      46     NaN  "
      ]
     },
     "execution_count": 23,
     "metadata": {},
     "output_type": "execute_result"
    }
   ],
   "source": [
    "# read input data\n",
    "oa_inc = pd.read_excel('input/OA_incident_samples_list.xlsx')\n",
    "oa_prev = pd.read_excel('input/OA_prev_samples_list.xlsx')\n",
    "ra_prev = pd.read_excel('input/RA_prev_samples_list.xlsx')\n",
    "\n",
    "mrg = pd.concat([oa_inc, oa_prev, ra_prev]).sort_values(['Vkood']).reset_index(drop=True)\n",
    "mrg.to_excel('input/merged_samples_list.xlsx', index=False)\n",
    "mrg.head(2)"
   ]
  },
  {
   "cell_type": "code",
   "execution_count": 22,
   "metadata": {},
   "outputs": [
    {
     "data": {
      "text/plain": [
       "59.0"
      ]
     },
     "execution_count": 22,
     "metadata": {},
     "output_type": "execute_result"
    }
   ],
   "source": [
    "len(ra_prev)/2"
   ]
  }
 ],
 "metadata": {
  "kernelspec": {
   "display_name": "base",
   "language": "python",
   "name": "python3"
  },
  "language_info": {
   "codemirror_mode": {
    "name": "ipython",
    "version": 3
   },
   "file_extension": ".py",
   "mimetype": "text/x-python",
   "name": "python",
   "nbconvert_exporter": "python",
   "pygments_lexer": "ipython3",
   "version": "3.9.6"
  },
  "orig_nbformat": 4
 },
 "nbformat": 4,
 "nbformat_minor": 2
}
